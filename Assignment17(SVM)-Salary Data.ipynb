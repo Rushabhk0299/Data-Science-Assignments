{
 "cells": [
  {
   "cell_type": "code",
   "execution_count": null,
   "id": "59b4f6da",
   "metadata": {},
   "outputs": [],
   "source": [
    "#import libraries\n",
    "import pandas as pd\n",
    "import numpy as np\n",
    "import matplotlib.pyplot as plt\n",
    "from sklearn import preprocessing\n",
    "from sklearn.preprocessing import StandardScaler\n",
    "from sklearn import svm\n",
    "from sklearn.svm import SVC\n",
    "from sklearn.model_selection import GridSearchCV\n",
    "from sklearn.metrics import classification_report\n",
    "from sklearn.metrics import accuracy_score,confusion_matrix\n",
    "from sklearn.model_selection import train_test_split,cross_val_score\n",
    "\n"
   ]
  },
  {
   "cell_type": "code",
   "execution_count": null,
   "id": "f33544dd",
   "metadata": {},
   "outputs": [],
   "source": [
    "train=pd.read_csv(\"D:\\\\zexcelR\\\\DS Assignments\\\\Assignment17\\\\SalaryData_Train(1).csv\")\n",
    "train"
   ]
  },
  {
   "cell_type": "code",
   "execution_count": null,
   "id": "75c27f89",
   "metadata": {},
   "outputs": [],
   "source": [
    "#preprocessing & Encoding\n",
    "label_encoder=preprocessing.LabelEncoder()\n",
    "train['workclass']=label_encoder.fit_transform(train['workclass'])\n",
    "train['education']=label_encoder.fit_transform(train['education'])\n",
    "train['maritalstatus']=label_encoder.fit_transform(train['maritalstatus'])\n",
    "train['occupation']=label_encoder.fit_transform(train['occupation'])\n",
    "train['relationship']=label_encoder.fit_transform(train['relationship'])\n",
    "train['race']=label_encoder.fit_transform(train['race'])\n",
    "train['sex']=label_encoder.fit_transform(train['sex'])\n",
    "train['native']=label_encoder.fit_transform(train['native'])\n",
    "train['Salary']=label_encoder.fit_transform(train['Salary'])\n",
    "train"
   ]
  },
  {
   "cell_type": "code",
   "execution_count": null,
   "id": "094107ef",
   "metadata": {},
   "outputs": [],
   "source": [
    "train.info()"
   ]
  },
  {
   "cell_type": "code",
   "execution_count": null,
   "id": "42bb8ed4",
   "metadata": {},
   "outputs": [],
   "source": [
    "#Load Dataset\n",
    "sal=pd.read_csv(\"D:\\\\zexcelR\\\\DS Assignments\\\\Assignment17\\\\SalaryData_Test(1).csv\")"
   ]
  },
  {
   "cell_type": "code",
   "execution_count": null,
   "id": "18985353",
   "metadata": {},
   "outputs": [],
   "source": [
    "sal"
   ]
  },
  {
   "cell_type": "code",
   "execution_count": null,
   "id": "acb198e3",
   "metadata": {},
   "outputs": [],
   "source": [
    "sal.info()"
   ]
  },
  {
   "cell_type": "code",
   "execution_count": null,
   "id": "6f85c72a",
   "metadata": {},
   "outputs": [],
   "source": [
    "label_encoder=preprocessing.LabelEncoder()"
   ]
  },
  {
   "cell_type": "code",
   "execution_count": null,
   "id": "99c28e1a",
   "metadata": {},
   "outputs": [],
   "source": [
    "#Preprocessing & Encoding\n",
    "sal['workclass']=label_encoder.fit_transform(sal['workclass'])\n",
    "sal['education']=label_encoder.fit_transform(sal['education'])\n",
    "sal['maritalstatus']=label_encoder.fit_transform(sal['maritalstatus'])\n",
    "sal['occupation']=label_encoder.fit_transform(sal['occupation'])\n",
    "sal['relationship']=label_encoder.fit_transform(sal['relationship'])\n",
    "sal['race']=label_encoder.fit_transform(sal['race'])\n",
    "sal['sex']=label_encoder.fit_transform(sal['sex'])\n",
    "sal['native']=label_encoder.fit_transform(sal['native'])\n",
    "sal['Salary']=label_encoder.fit_transform(sal['Salary'])\n",
    "sal"
   ]
  },
  {
   "cell_type": "code",
   "execution_count": null,
   "id": "eb4d33f3",
   "metadata": {},
   "outputs": [],
   "source": [
    "#define x,y train,test\n",
    "x_train=train.iloc[:,:-1]\n",
    "x_train"
   ]
  },
  {
   "cell_type": "code",
   "execution_count": null,
   "id": "969e1e66",
   "metadata": {},
   "outputs": [],
   "source": [
    "y_train=train.iloc[:,-1]\n",
    "y_train"
   ]
  },
  {
   "cell_type": "code",
   "execution_count": null,
   "id": "442b0bc4",
   "metadata": {},
   "outputs": [],
   "source": [
    "x_test=train.iloc[:,:-1]\n",
    "x_test"
   ]
  },
  {
   "cell_type": "code",
   "execution_count": null,
   "id": "a1f39e89",
   "metadata": {},
   "outputs": [],
   "source": [
    "y_test=train.iloc[:,-1]"
   ]
  },
  {
   "cell_type": "code",
   "execution_count": null,
   "id": "44f6d99d",
   "metadata": {},
   "outputs": [],
   "source": [
    "y_test"
   ]
  },
  {
   "cell_type": "code",
   "execution_count": null,
   "id": "640d6456",
   "metadata": {},
   "outputs": [],
   "source": [
    "#Grid Search CV\n",
    "clf = SVC()\n",
    "param_grid = [{'kernel':['rbf'],'gamma':[50,5,10],'C':[15,14,13,12] }]\n",
    "gsv = GridSearchCV(clf,param_grid,cv=10)\n",
    "gsv.fit(x_train,y_train)"
   ]
  },
  {
   "cell_type": "code",
   "execution_count": null,
   "id": "12224902",
   "metadata": {},
   "outputs": [],
   "source": [
    "#SVM Classification\n",
    "clf=svc(C=15,gamma=5)\n",
    "clf.fit(x_train,y_train)\n",
    "y_pred=clf.predict(x_test)\n",
    "acc=accuracy_score(y_test,y_pred)*100\n",
    "print(\"Accuracy=\",acc)\n",
    "confusion_matrix(y_test,y_pred)"
   ]
  },
  {
   "cell_type": "code",
   "execution_count": null,
   "id": "a253bd6d",
   "metadata": {},
   "outputs": [],
   "source": [
    "salary=pd.merge(train,test)"
   ]
  },
  {
   "cell_type": "code",
   "execution_count": null,
   "id": "fe5e09c5",
   "metadata": {},
   "outputs": [],
   "source": [
    "salary"
   ]
  },
  {
   "cell_type": "code",
   "execution_count": null,
   "id": "341c801c",
   "metadata": {},
   "outputs": [],
   "source": [
    "x=salary.iloc[:,:-1]\n",
    "x"
   ]
  },
  {
   "cell_type": "code",
   "execution_count": null,
   "id": "454aaacb",
   "metadata": {},
   "outputs": [],
   "source": [
    "y=salary.iloc[:,-1]\n",
    "y"
   ]
  },
  {
   "cell_type": "code",
   "execution_count": null,
   "id": "adf437b2",
   "metadata": {},
   "outputs": [],
   "source": [
    "#SVM Classification\n",
    "clf1=SVC(C=15,gamma=50)\n",
    "clf1.fit(x,y)\n",
    "y_pred=clf1.predict(x)\n",
    "acc1=accuracy_score(y,y_pred))*100\n",
    "print(\"accuracy=\",acc1)\n",
    "confusion_matrix(y,y_pred)"
   ]
  },
  {
   "cell_type": "code",
   "execution_count": null,
   "id": "12d60c38",
   "metadata": {},
   "outputs": [],
   "source": []
  }
 ],
 "metadata": {
  "kernelspec": {
   "display_name": "Python 3 (ipykernel)",
   "language": "python",
   "name": "python3"
  },
  "language_info": {
   "codemirror_mode": {
    "name": "ipython",
    "version": 3
   },
   "file_extension": ".py",
   "mimetype": "text/x-python",
   "name": "python",
   "nbconvert_exporter": "python",
   "pygments_lexer": "ipython3",
   "version": "3.9.7"
  }
 },
 "nbformat": 4,
 "nbformat_minor": 5
}
